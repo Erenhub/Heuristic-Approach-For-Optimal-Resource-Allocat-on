{
 "cells": [
  {
   "cell_type": "code",
   "execution_count": null,
   "metadata": {},
   "outputs": [],
   "source": []
  },
  {
   "cell_type": "code",
   "execution_count": 5,
   "metadata": {},
   "outputs": [
    {
     "name": "stdout",
     "output_type": "stream",
     "text": [
      "2537\n",
      "2709\n",
      "2326\n",
      "2519\n",
      "2636\n",
      "2644\n",
      "2179\n",
      "2806\n",
      "2513\n",
      "2669\n",
      "2493\n",
      "2404\n",
      "2529\n",
      "2690\n",
      "2919\n",
      "2565\n",
      "2684\n",
      "2357\n",
      "2072\n",
      "2830\n",
      "2133\n",
      "2307\n",
      "2756\n",
      "2791\n",
      "2303\n",
      "2584\n",
      "2956\n",
      "2245\n",
      "2382\n",
      "2508\n"
     ]
    }
   ],
   "source": [
    "from gurobipy import *\n",
    "import time \n",
    "\n",
    "\n",
    "def parse_line(line):               #reads and prepare data from txt file\n",
    "    \"\"\" method\n",
    "    read lines from input file\n",
    "    :return: tuple like: (instance id, number of items, knapsack capacity,\n",
    "                            list of tuples like: [(weight, cost), (weight, cost), ...])\n",
    "    \"\"\"\n",
    "    parts = [int(value) for value in line.split()]\n",
    "    inst_id, number, capacity = parts[0:3]\n",
    "    service = [(parts[i]) for i in range(3, len(parts), 2)]\n",
    "    data = [(parts[i+1]) for i in range(3, len(parts), 2)]\n",
    "    return inst_id, number, capacity, service, data \n",
    "\n",
    "\n",
    "servicelist=[]\n",
    "datalist=[] \n",
    "\n",
    "\n",
    "inst_file = open(\"knap37l.txt\", \"r\")\n",
    "for line in inst_file:\n",
    "        inst_id, number, capacity, service, data = parse_line(line)\n",
    "        #print(weight_cost)\n",
    "        datalist.append(data)\n",
    "        servicelist.append(service)\n",
    "\n",
    "\n",
    "#c = 100                     # knapsack capacity // manual set to test algorithm\n",
    "#d = [114,136,192,223] # item data\n",
    "#w = [18,42,88,3] # item weights /IoT so to say\n",
    "\n",
    "def model_kp(c, p, w, LogToConsole=True, TimeLimit=60): #after 60 seconds gurobi stops\n",
    "    n = len(p)\n",
    "    assert n == len(w), 'Lengths of p and w should be the same'\n",
    "    model = Model()\n",
    "    model.params.LogToConsole = LogToConsole\n",
    "    model.params.TimeLimit = TimeLimit # seconds\n",
    "    x = model.addVars(n, vtype=GRB.BINARY)\n",
    "    model.setObjective(quicksum(p[i] * x[i] for i in range(n)), GRB.MAXIMIZE)\n",
    "    model.addConstr(quicksum(w[i] * x[i] for i in range(n)) <= c) #should exceed cloud capacity.\n",
    "    model.optimize()\n",
    "    items_selected = [i for i in range(n) if x[i].X > 0.5]\n",
    "    total_data = int(model.ObjVal)\n",
    "    return items_selected, total_data\n",
    "\n",
    "\n",
    "#items_selected, total_data = model_kp(c, datalist[0], servicelist[0], False) //gives the index of \n",
    "#print('Items selected are', items_selected, 'and the total data is', total_data) // selected items\n",
    "\n",
    "\n",
    "for i in range(30): #line number is fixed 30 since there is 30 experiment\n",
    "    items_selected, total_data = model_kp(capacity, datalist[i], servicelist[i], False)\n",
    "    print(total_data)\n",
    "\n"
   ]
  },
  {
   "cell_type": "code",
   "execution_count": null,
   "metadata": {},
   "outputs": [],
   "source": []
  },
  {
   "cell_type": "code",
   "execution_count": null,
   "metadata": {},
   "outputs": [],
   "source": []
  },
  {
   "cell_type": "code",
   "execution_count": null,
   "metadata": {},
   "outputs": [],
   "source": []
  },
  {
   "cell_type": "code",
   "execution_count": null,
   "metadata": {},
   "outputs": [],
   "source": []
  }
 ],
 "metadata": {
  "kernelspec": {
   "display_name": "Python 3",
   "language": "python",
   "name": "python3"
  },
  "language_info": {
   "codemirror_mode": {
    "name": "ipython",
    "version": 3
   },
   "file_extension": ".py",
   "mimetype": "text/x-python",
   "name": "python",
   "nbconvert_exporter": "python",
   "pygments_lexer": "ipython3",
   "version": "3.7.4"
  }
 },
 "nbformat": 4,
 "nbformat_minor": 2
}
