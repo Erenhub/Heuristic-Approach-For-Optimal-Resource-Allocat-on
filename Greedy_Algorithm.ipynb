{
 "cells": [
  {
   "cell_type": "code",
   "execution_count": 8,
   "metadata": {
    "scrolled": true
   },
   "outputs": [
    {
     "name": "stdout",
     "output_type": "stream",
     "text": [
      "Wall time: 8 ms\n"
     ]
    },
    {
     "data": {
      "text/plain": [
       "[2753,\n",
       " 2615,\n",
       " 2742,\n",
       " 3100,\n",
       " 2624,\n",
       " 2674,\n",
       " 2605,\n",
       " 2485,\n",
       " 2463,\n",
       " 2689,\n",
       " 2704,\n",
       " 2752,\n",
       " 2795,\n",
       " 2536,\n",
       " 3048,\n",
       " 2549,\n",
       " 2753,\n",
       " 2763,\n",
       " 2992,\n",
       " 2641,\n",
       " 3275,\n",
       " 2752,\n",
       " 3023,\n",
       " 2262,\n",
       " 2522,\n",
       " 2748,\n",
       " 2901,\n",
       " 2673,\n",
       " 2643,\n",
       " 2549]"
      ]
     },
     "execution_count": 8,
     "metadata": {},
     "output_type": "execute_result"
    }
   ],
   "source": [
    "#import time                          #to compute execute time\n",
    "#%%time\n",
    "#[ x**2 for x in range(10000)]\n",
    "\n",
    "\n",
    "def parse_line(line):               #reads and prepare data from txt file\n",
    "   \n",
    "    parts = [int(value) for value in line.split()]\n",
    "    inst_id, number, capacity = parts[0:3]\n",
    "    data_service = [(parts[i], parts[i + 1]) for i in range(3, len(parts), 2)]\n",
    "    return inst_id, number, capacity, data_service  \n",
    "\n",
    "def ratio_greedy(number, capacity, data_service):\n",
    "        \n",
    "        ratios = [(index, item[1] / float(item[0])) for index, item in enumerate(data_service)]\n",
    "        #first weight_Cost pairs are enumerated ie: index 0: 30,40\n",
    "        # index 1: 45,55 .. and so on..\n",
    "        # then since each experiment have numbers of pairs we scan through index each pair ratio\n",
    "        # and as i told in the algorithm psedeuo code we D/N , where item[1] is D and item[0] is N.\n",
    "\n",
    "        ratios = sorted(ratios, key=lambda x: x[1], reverse=True) # then we sort these ratios by usin key.\n",
    "        best_combination = [0] * number # creates an array to hold best combination data.\n",
    "        best_data = 0\n",
    "        weight = 0\n",
    "        for index, ratio in ratios:\n",
    "            if data_service[index][0] + weight <= capacity:\n",
    "                if ratio>0.035:\n",
    "                #if data_service[index][1] > 50: naive me :(\n",
    "                    weight += data_service[index][0] #accumulate the n constraint, check the bound\n",
    "                    best_data += data_service[index][1]#returns the sum of data\n",
    "                    best_combination[index] = 1 #makes the index 1 of selected gateway\n",
    "                    \n",
    "        return best_data, best_combination\n",
    "\n",
    "\n",
    "datalist=[]\n",
    "indexlist=[]\n",
    "inst_file = open(\"knap40l.txt\", \"r\")\n",
    "for line in inst_file:\n",
    "        inst_id, number, capacity, data_service = parse_line(line)\n",
    "        # get best cost and variables combination\n",
    "        best_data, best_combination = ratio_greedy(number, capacity, data_service)\n",
    "        best_combination_str = \" \".join(\"%s\" % i for i in best_combination)\n",
    "        datalist.append(best_data)\n",
    "        indexlist.append(best_combination)  \n",
    "        \n",
    "datalist\n",
    "#indexlist\n",
    "\n"
   ]
  },
  {
   "cell_type": "code",
   "execution_count": null,
   "metadata": {},
   "outputs": [],
   "source": []
  },
  {
   "cell_type": "code",
   "execution_count": null,
   "metadata": {},
   "outputs": [],
   "source": []
  }
 ],
 "metadata": {
  "kernelspec": {
   "display_name": "Python 3",
   "language": "python",
   "name": "python3"
  },
  "language_info": {
   "codemirror_mode": {
    "name": "ipython",
    "version": 3
   },
   "file_extension": ".py",
   "mimetype": "text/x-python",
   "name": "python",
   "nbconvert_exporter": "python",
   "pygments_lexer": "ipython3",
   "version": "3.7.4"
  }
 },
 "nbformat": 4,
 "nbformat_minor": 2
}
